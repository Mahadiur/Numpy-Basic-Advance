{
 "cells": [
  {
   "cell_type": "markdown",
   "id": "88a33ef6",
   "metadata": {},
   "source": [
    "  ### NUMPY FIRST CLASS ###"
   ]
  },
  {
   "cell_type": "code",
   "execution_count": 7,
   "id": "979e6230",
   "metadata": {},
   "outputs": [
    {
     "name": "stdout",
     "output_type": "stream",
     "text": [
      "2.2.6\n"
     ]
    }
   ],
   "source": [
    "import numpy as np\n",
    "\n",
    "# Check version\n",
    "print(np.__version__)"
   ]
  },
  {
   "cell_type": "code",
   "execution_count": 8,
   "id": "9a28945f",
   "metadata": {},
   "outputs": [
    {
     "name": "stdout",
     "output_type": "stream",
     "text": [
      "[1, 2, 3, 4, 5, 6]\n",
      "[1 2 3 4 5 6]\n",
      "<class 'list'>\n",
      "<class 'numpy.ndarray'>\n"
     ]
    }
   ],
   "source": [
    "''' Test 1 '''\n",
    "firstList=[1,2,3,4,5,6]\n",
    "npList1=np.array(firstList)\n",
    "\n",
    "print(firstList)\n",
    "print(npList1)\n",
    "# Check type\n",
    "print(type(firstList))\n",
    "print(type(npList1))"
   ]
  },
  {
   "cell_type": "code",
   "execution_count": null,
   "id": "64469699",
   "metadata": {},
   "outputs": [
    {
     "name": "stdout",
     "output_type": "stream",
     "text": [
      "[[[0. 0. 0. 0. 0.]\n",
      "  [0. 0. 0. 0. 0.]\n",
      "  [0. 0. 0. 0. 0.]]]\n"
     ]
    }
   ],
   "source": [
    "''' Test 2 '''\n",
    "np.zeros(\n",
    "    shape=(1,3,5)\n",
    ")"
   ]
  }
 ],
 "metadata": {
  "kernelspec": {
   "display_name": "Python 3",
   "language": "python",
   "name": "python3"
  },
  "language_info": {
   "codemirror_mode": {
    "name": "ipython",
    "version": 3
   },
   "file_extension": ".py",
   "mimetype": "text/x-python",
   "name": "python",
   "nbconvert_exporter": "python",
   "pygments_lexer": "ipython3",
   "version": "3.12.3"
  }
 },
 "nbformat": 4,
 "nbformat_minor": 5
}
