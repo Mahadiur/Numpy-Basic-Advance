{
 "cells": [
  {
   "cell_type": "markdown",
   "id": "88a33ef6",
   "metadata": {},
   "source": [
    "  ### NUMPY FIRST CLASS ###"
   ]
  },
  {
   "cell_type": "code",
   "execution_count": 2,
   "id": "979e6230",
   "metadata": {},
   "outputs": [
    {
     "name": "stdout",
     "output_type": "stream",
     "text": [
      "2.2.6\n"
     ]
    }
   ],
   "source": [
    "import numpy as np\n",
    "\n",
    "# Check version\n",
    "print(np.__version__)"
   ]
  },
  {
   "cell_type": "code",
   "execution_count": 3,
   "id": "9a28945f",
   "metadata": {},
   "outputs": [
    {
     "name": "stdout",
     "output_type": "stream",
     "text": [
      "[1, 2, 3, 4, 5, 6]\n",
      "[1 2 3 4 5 6]\n",
      "<class 'list'>\n",
      "<class 'numpy.ndarray'>\n"
     ]
    }
   ],
   "source": [
    "''' Test 1 '''\n",
    "firstList=[1,2,3,4,5,6]\n",
    "npList1=np.array(firstList)\n",
    "\n",
    "print(firstList)\n",
    "print(npList1)\n",
    "# Check type\n",
    "print(type(firstList))\n",
    "print(type(npList1))"
   ]
  },
  {
   "cell_type": "code",
   "execution_count": 4,
   "id": "64469699",
   "metadata": {},
   "outputs": [
    {
     "name": "stdout",
     "output_type": "stream",
     "text": [
      "[[[0. 0. 0. 0. 0.]\n",
      "  [0. 0. 0. 0. 0.]\n",
      "  [0. 0. 0. 0. 0.]]]\n",
      "3\n"
     ]
    }
   ],
   "source": [
    "''' Test 2 \n",
    "- Create a 3 dymention list with use numpy module\n",
    "- Full list amount:1\n",
    "- In list item:3\n",
    "- per sublist element:5\n",
    "''' \n",
    "testnumpy=np.zeros(\n",
    "    shape=(1,3,5)\n",
    ")\n",
    "\n",
    "print(testnumpy)\n",
    "print(testnumpy.ndim)"
   ]
  },
  {
   "cell_type": "code",
   "execution_count": 5,
   "id": "04185cd4",
   "metadata": {},
   "outputs": [
    {
     "name": "stdout",
     "output_type": "stream",
     "text": [
      "(5,)\n",
      "1\n",
      "int64\n"
     ]
    }
   ],
   "source": [
    "''' Test 3 \n",
    "- shape:show how many row and colum in array\n",
    "- ndim:show dymention in array\n",
    "- dtype:show element data type in array\n",
    "'''\n",
    "testnumpy2=np.array([1,2,3,4,5])\n",
    "\n",
    "print(testnumpy2.shape)\n",
    "print(testnumpy2.ndim)\n",
    "print(testnumpy2.dtype)\n"
   ]
  },
  {
   "cell_type": "code",
   "execution_count": 6,
   "id": "3b847ca0",
   "metadata": {},
   "outputs": [
    {
     "data": {
      "text/plain": [
       "array([[1., 1., 1., 1., 1.],\n",
       "       [1., 1., 1., 1., 1.],\n",
       "       [1., 1., 1., 1., 1.]])"
      ]
     },
     "execution_count": 6,
     "metadata": {},
     "output_type": "execute_result"
    }
   ],
   "source": [
    "''' Test 4\n",
    "- method of Numpy:np.ones\n",
    "- shape:row3 & colum5\n",
    "- All item value is 1\n",
    "'''\n",
    "np.ones(\n",
    "    shape=(3,5)\n",
    ")"
   ]
  },
  {
   "cell_type": "code",
   "execution_count": 7,
   "id": "5093db05",
   "metadata": {},
   "outputs": [
    {
     "name": "stdout",
     "output_type": "stream",
     "text": [
      "[]\n",
      "(5, 0)\n",
      "2\n",
      "float64\n"
     ]
    }
   ],
   "source": [
    "''' Test 5 \n",
    "- Create a empty array\n",
    "- dymention:2\n",
    "- type:float\n",
    "'''\n",
    "test5=np.empty(\n",
    "    shape=(5,0)\n",
    ")\n",
    "print(test5)\n",
    "print(test5.shape)\n",
    "print(test5.ndim)\n",
    "print(test5.dtype)"
   ]
  },
  {
   "cell_type": "code",
   "execution_count": 8,
   "id": "72a56f66",
   "metadata": {},
   "outputs": [
    {
     "name": "stdout",
     "output_type": "stream",
     "text": [
      "[[13 13 13]\n",
      " [13 13 13]\n",
      " [13 13 13]]\n"
     ]
    }
   ],
   "source": [
    "'''  Test 6 \n",
    "- method of Numpy:np.full\n",
    "- Create a array and all element is same \n",
    "- shape define is most important\n",
    "'''\n",
    "\n",
    "test6=np.full(\n",
    "    shape=(3,3),\n",
    "    fill_value=13\n",
    ")\n",
    "print(test6)"
   ]
  },
  {
   "cell_type": "code",
   "execution_count": 9,
   "id": "2168344b",
   "metadata": {},
   "outputs": [
    {
     "name": "stdout",
     "output_type": "stream",
     "text": [
      "[[1. 0. 0. 0.]\n",
      " [0. 1. 0. 0.]\n",
      " [0. 0. 1. 0.]\n",
      " [0. 0. 0. 1.]]\n",
      "2\n",
      "float64\n"
     ]
    }
   ],
   "source": [
    "''' Test 7 \n",
    "- It's called 'I3' Method\n",
    "- Method of Numpy:np.eye\n",
    "- Create a Dynamic number pattern\n",
    "- e.g:np.eye(4)->\n",
    "dimention is 2 \n",
    "row is 4 \n",
    "colum is 4\n",
    "'''\n",
    "test7=np.eye(4)\n",
    "print(test7)\n",
    "print(test7.ndim)\n",
    "print(test7.dtype)"
   ]
  },
  {
   "cell_type": "code",
   "execution_count": 10,
   "id": "11674f28",
   "metadata": {},
   "outputs": [
    {
     "name": "stdout",
     "output_type": "stream",
     "text": [
      "Data Value is [[1. 1. 1.]\n",
      " [1. 1. 1.]\n",
      " [1. 1. 1.]] and type float64\n",
      "Data Value is [[1 1 1]\n",
      " [1 1 1]\n",
      " [1 1 1]] and type int64\n",
      "Data Value is [['1.0' '1.0' '1.0']\n",
      " ['1.0' '1.0' '1.0']\n",
      " ['1.0' '1.0' '1.0']] and type <U32\n"
     ]
    }
   ],
   "source": [
    "''' Test 8\n",
    "- 'Type Casting'\n",
    "-  Switch Data type to Data type\n",
    "'''\n",
    "floatdata=np.ones(\n",
    "    shape=(3,3)\n",
    ")\n",
    "print(f'Data Value is {floatdata} and type {floatdata.dtype}' )\n",
    "intdata=floatdata.astype('int')\n",
    "print(f'Data Value is {intdata} and type {intdata.dtype}')\n",
    "strdata=floatdata.astype('str')\n",
    "print(f'Data Value is {strdata} and type {strdata.dtype}')\n"
   ]
  },
  {
   "cell_type": "code",
   "execution_count": 13,
   "id": "b7cfdb46",
   "metadata": {},
   "outputs": [
    {
     "name": "stdout",
     "output_type": "stream",
     "text": [
      "[ 1  2  3  4  5  6  7  8  9 10]\n",
      "<class 'numpy.ndarray'>\n"
     ]
    }
   ],
   "source": [
    "''' Test 8 \n",
    "- like a loop in plain python\n",
    "- keyword is : 'arange' \n",
    "- Three Peremater: Start , Stop , Step\n",
    "'''\n",
    "test8=np.arange(start=1,stop=11,step=1)\n",
    "print(test8)\n",
    "print(type(test8))\n"
   ]
  },
  {
   "cell_type": "code",
   "execution_count": 14,
   "id": "d2395472",
   "metadata": {},
   "outputs": [
    {
     "name": "stdout",
     "output_type": "stream",
     "text": [
      "[ 1.   3.5  6.   8.5 11. ]\n",
      "<class 'numpy.ndarray'>\n"
     ]
    }
   ],
   "source": [
    "''' test 9 \n",
    "- keyword is :linspace\n",
    "- Three peremeter:Start, Stop, num\n",
    "'''\n",
    "test9=np.linspace(start=1,stop=11,num=5)\n",
    "print(test9)\n",
    "print(type(test9))"
   ]
  }
 ],
 "metadata": {
  "kernelspec": {
   "display_name": "Python 3",
   "language": "python",
   "name": "python3"
  },
  "language_info": {
   "codemirror_mode": {
    "name": "ipython",
    "version": 3
   },
   "file_extension": ".py",
   "mimetype": "text/x-python",
   "name": "python",
   "nbconvert_exporter": "python",
   "pygments_lexer": "ipython3",
   "version": "3.12.3"
  }
 },
 "nbformat": 4,
 "nbformat_minor": 5
}
