{
 "cells": [
  {
   "cell_type": "markdown",
   "id": "9e4b50a7",
   "metadata": {},
   "source": [
    "### NUMPY ADVANCE CLASS ###"
   ]
  },
  {
   "cell_type": "code",
   "execution_count": 1,
   "id": "6615de84",
   "metadata": {},
   "outputs": [
    {
     "name": "stdout",
     "output_type": "stream",
     "text": [
      "2.2.6\n"
     ]
    }
   ],
   "source": [
    "import numpy as np\n",
    "\n",
    "print(np.__version__)"
   ]
  },
  {
   "cell_type": "markdown",
   "id": "b2deb2e5",
   "metadata": {},
   "source": [
    "### NUMPY OPERATION & MULTI DYMENTION NUMPY ARRAY ###"
   ]
  },
  {
   "cell_type": "code",
   "execution_count": 2,
   "id": "ae3d7270",
   "metadata": {},
   "outputs": [
    {
     "name": "stdout",
     "output_type": "stream",
     "text": [
      "2\n",
      "5\n"
     ]
    }
   ],
   "source": [
    "''' Indexing\n",
    "- Non Negetive {1,2,3}\n",
    "- Negetive {-1,-2,-3}\n",
    "'''\n",
    "indexarray=np.array([1,2,3,4,5])\n",
    "\n",
    "print(indexarray[1])\n",
    "print(indexarray[-1])"
   ]
  },
  {
   "cell_type": "code",
   "execution_count": 3,
   "id": "501a5bf3",
   "metadata": {},
   "outputs": [
    {
     "name": "stdout",
     "output_type": "stream",
     "text": [
      "[2 3 4 5 6]\n",
      "[[ 3]\n",
      " [ 8]\n",
      " [13]]\n"
     ]
    }
   ],
   "source": [
    "''' Slicing \n",
    "- Three peremeter(start, stop, step)\n",
    "- 2 Dymention-(colum,row)\n",
    "'''\n",
    "slicingarray1=np.array([1,2,3,4,5,6,7,8]) # 1 dymention\n",
    "slicingarray2=np.array([[1,2,3,4,5],[6,7,8,9,10],[11,12,13,14,15]]) # 2 dymention\n",
    "\n",
    "print(slicingarray1[1:6:1])\n",
    "\n",
    "print(slicingarray2[0:len(slicingarray2):1,2:3:1])"
   ]
  },
  {
   "cell_type": "code",
   "execution_count": 4,
   "id": "70ed6cfc",
   "metadata": {},
   "outputs": [
    {
     "name": "stdout",
     "output_type": "stream",
     "text": [
      "[[1. 1. 1. 1. 1.]\n",
      " [1. 1. 1. 1. 1.]\n",
      " [1. 1. 1. 1. 1.]]\n",
      "(3, 5)\n",
      "[[1. 1. 1.]\n",
      " [1. 1. 1.]\n",
      " [1. 1. 1.]\n",
      " [1. 1. 1.]\n",
      " [1. 1. 1.]]\n",
      "(5, 3)\n"
     ]
    }
   ],
   "source": [
    "''' Reshape '''\n",
    "reshapenp=np.ones(\n",
    "    shape=(3,5)\n",
    ")\n",
    "reshapenp2=reshapenp.reshape(5,3)\n",
    "\n",
    "print(reshapenp)\n",
    "print(reshapenp.shape)\n",
    "print(reshapenp2)\n",
    "print(reshapenp2.shape)"
   ]
  },
  {
   "cell_type": "code",
   "execution_count": 5,
   "id": "091ebf32",
   "metadata": {},
   "outputs": [
    {
     "name": "stdout",
     "output_type": "stream",
     "text": [
      "[[[0. 0. 0. 0. 0. 0. 0. 0. 0. 0. 0. 0.]\n",
      "  [0. 0. 0. 0. 0. 0. 0. 0. 0. 0. 0. 0.]]\n",
      "\n",
      " [[0. 0. 0. 0. 0. 0. 0. 0. 0. 0. 0. 0.]\n",
      "  [0. 0. 0. 0. 0. 0. 0. 0. 0. 0. 0. 0.]]]\n"
     ]
    }
   ],
   "source": [
    "''' Reshape with -1 '''\n",
    "np_array=np.zeros(shape=(3,4,2,2))\n",
    "np_array2=np_array.reshape(2,-1,12)\n",
    "print(np_array2)"
   ]
  },
  {
   "cell_type": "code",
   "execution_count": 6,
   "id": "92184075",
   "metadata": {},
   "outputs": [
    {
     "name": "stdout",
     "output_type": "stream",
     "text": [
      "[2 4]\n",
      "[2 4]\n",
      "[ True False  True False  True]\n"
     ]
    }
   ],
   "source": [
    "''' Filtering \n",
    "- like Conditional Statement\n",
    "- BroadCasting\n",
    "- Vactorization\n",
    "'''\n",
    "filterarray=np.array([1,2,3,4,5])\n",
    "\n",
    "filterMask=[False,True,False,True,False] # step1\n",
    "print(filterarray[filterMask]) # 2, 4\n",
    "\n",
    "indices=[1,3] # step2\n",
    "print(filterarray[indices]) # 2, 4\n",
    "\n",
    "filterarray2=filterarray % 2 == 1\n",
    "print(filterarray2) # [True, False .....]\n"
   ]
  },
  {
   "cell_type": "markdown",
   "id": "e4c3aa61",
   "metadata": {},
   "source": [
    "### NUMPY RANDOM ###"
   ]
  },
  {
   "cell_type": "code",
   "execution_count": 7,
   "id": "abd8adc5",
   "metadata": {},
   "outputs": [
    {
     "name": "stdout",
     "output_type": "stream",
     "text": [
      "[[0.93151602 0.59023272 0.0227858  0.81564907 0.22837691]\n",
      " [0.21749075 0.34838552 0.00600309 0.17320569 0.58695141]\n",
      " [0.88185351 0.06353025 0.39375578 0.14185748 0.95523131]\n",
      " [0.33399641 0.88625808 0.58963786 0.75681656 0.92846533]\n",
      " [0.36910584 0.97291515 0.44934044 0.03959109 0.29161347]]\n",
      "float64\n",
      "[[27 23]\n",
      " [67 46]\n",
      " [22 46]\n",
      " [47 62]\n",
      " [96 12]]\n",
      "int32\n"
     ]
    }
   ],
   "source": [
    "''' rand '''\n",
    "randomtest1=np.random.rand(5,5)\n",
    "print(randomtest1)\n",
    "print(randomtest1.dtype)\n",
    "\n",
    "randomtest2=np.random.randint(100,size=(5,2)) # size (row , colum)\n",
    "print(randomtest2)\n",
    "print(randomtest2.dtype)\n"
   ]
  },
  {
   "cell_type": "code",
   "execution_count": 8,
   "id": "9ff06813",
   "metadata": {},
   "outputs": [
    {
     "name": "stdout",
     "output_type": "stream",
     "text": [
      "[[ 1  2  3]\n",
      " [ 4  5  6]\n",
      " [ 7  8  9]\n",
      " [10 11 12]]\n",
      "[[10 11 12]\n",
      " [ 7  8  9]\n",
      " [ 1  2  3]\n",
      " [ 4  5  6]]\n"
     ]
    }
   ],
   "source": [
    "# shuffle\n",
    "np_array_new=np.array(\n",
    "    [[1,2,3],\n",
    "     [4,5,6],\n",
    "     [7,8,9],\n",
    "     [10,11,12]]\n",
    ")\n",
    "print(np_array_new)\n",
    "np.random.shuffle(np_array_new)\n",
    "print(np_array_new)\n"
   ]
  },
  {
   "cell_type": "code",
   "execution_count": 9,
   "id": "4b4c5f4c",
   "metadata": {},
   "outputs": [
    {
     "name": "stdout",
     "output_type": "stream",
     "text": [
      "[ 1  2  2  3  5  7 10 54]\n",
      "[54 10  7  5  3  2  2  1]\n"
     ]
    }
   ],
   "source": [
    "''' Numpy sort and sort reverse '''\n",
    "sort_array=np.array([3,2,7,5,1,2,10,54])\n",
    "sortarray1=np.sort(sort_array) # lower to upper\n",
    "print(sortarray1)\n",
    "\n",
    "reversearray=sortarray1[::-1]\n",
    "print(reversearray)"
   ]
  },
  {
   "cell_type": "code",
   "execution_count": 10,
   "id": "27b2479a",
   "metadata": {},
   "outputs": [
    {
     "name": "stdout",
     "output_type": "stream",
     "text": [
      "54\n",
      "1\n"
     ]
    }
   ],
   "source": [
    "''' maximum and minimum Number '''\n",
    "Testing_Array=np.array([1,2,32,4,5,20,31,54,7,8])\n",
    "\n",
    "max_num=np.argmax(Testing_Array)\n",
    "min_num=np.argmin(Testing_Array)\n",
    "print(Testing_Array[max_num])\n",
    "print(Testing_Array[min_num])"
   ]
  },
  {
   "cell_type": "code",
   "execution_count": 11,
   "id": "fc716f93",
   "metadata": {},
   "outputs": [
    {
     "name": "stdout",
     "output_type": "stream",
     "text": [
      "[array([1, 2]), array([3, 4]), array([5, 6])]\n",
      "[1 2]\n",
      "[3 4]\n",
      "[5 6]\n"
     ]
    }
   ],
   "source": [
    "''' split in Numpy '''\n",
    "testing_Array2=np.array([1,2,3,4,5,6])\n",
    "\n",
    "splitArray=np.split(\n",
    "    testing_Array2,\n",
    "    indices_or_sections=3 # Numpy Keyword\n",
    ")\n",
    "print(splitArray)\n",
    "print(splitArray[0])\n",
    "print(splitArray[1])\n",
    "print(splitArray[2])"
   ]
  },
  {
   "cell_type": "markdown",
   "id": "3808d859",
   "metadata": {},
   "source": [
    "### NUMPY AXIS ###"
   ]
  },
  {
   "cell_type": "code",
   "execution_count": 12,
   "id": "14c5c45d",
   "metadata": {},
   "outputs": [
    {
     "name": "stdout",
     "output_type": "stream",
     "text": [
      "65\n",
      "[15 14 13 12 11]\n",
      "[15 15 35]\n"
     ]
    }
   ],
   "source": [
    "''' Sumation '''\n",
    "sum_array=np.array(\n",
    "    [[1,2,3,4,5],\n",
    "     [5,4,3,2,1],\n",
    "     [9,8,7,6,5]]\n",
    ")\n",
    "total=np.sum(sum_array) # All number sumation\n",
    "row_total=np.sum(sum_array,axis=0) # row wise sumation\n",
    "colum_total=np.sum(sum_array,axis=1) # colum wise sumation\n",
    "print(total)\n",
    "print(row_total)\n",
    "print(colum_total)"
   ]
  },
  {
   "cell_type": "code",
   "execution_count": 13,
   "id": "84ed1fac",
   "metadata": {},
   "outputs": [
    {
     "name": "stdout",
     "output_type": "stream",
     "text": [
      "[[[1. 1. 1. 1.]\n",
      "  [1. 1. 1. 1.]]\n",
      "\n",
      " [[1. 1. 1. 1.]\n",
      "  [1. 1. 1. 1.]]\n",
      "\n",
      " [[1. 1. 1. 1.]\n",
      "  [1. 1. 1. 1.]]\n",
      "\n",
      " [[1. 1. 1. 1.]\n",
      "  [1. 1. 1. 1.]]\n",
      "\n",
      " [[1. 1. 1. 1.]\n",
      "  [1. 1. 1. 1.]]]\n",
      "3\n",
      "[[4. 4.]\n",
      " [4. 4.]\n",
      " [4. 4.]\n",
      " [4. 4.]\n",
      " [4. 4.]]\n"
     ]
    }
   ],
   "source": [
    "npArray=np.ones(\n",
    "    shape=(5,2,4)\n",
    ")\n",
    "print(npArray)\n",
    "print(npArray.ndim)\n",
    "sumation=np.sum(npArray,axis=2)\n",
    "print(sumation)"
   ]
  },
  {
   "cell_type": "markdown",
   "id": "e645327d",
   "metadata": {},
   "source": [
    "### USEFULL PROPERTY IN NUMPY ###"
   ]
  },
  {
   "cell_type": "code",
   "execution_count": 14,
   "id": "7acf3eb4",
   "metadata": {},
   "outputs": [
    {
     "name": "stdout",
     "output_type": "stream",
     "text": [
      "122\n"
     ]
    }
   ],
   "source": [
    "''' dot '''\n",
    "dot_array1=np.array([1,6,10])\n",
    "dot_array2=np.array([2,5,9])\n",
    "\n",
    "result=np.dot(dot_array1,dot_array2)\n",
    "print(result)"
   ]
  },
  {
   "cell_type": "code",
   "execution_count": 15,
   "id": "b03b135d",
   "metadata": {},
   "outputs": [
    {
     "name": "stdout",
     "output_type": "stream",
     "text": [
      "(4, 3)\n",
      "[[2 6 1 4]\n",
      " [3 7 6 6]\n",
      " [4 8 0 8]]\n",
      "(3, 4)\n"
     ]
    }
   ],
   "source": [
    "''' matrix Transpose '''\n",
    "np_2d_array=np.array(\n",
    "    [[2,3,4],\n",
    "     [6,7,8],\n",
    "     [1,6,0],\n",
    "     [4,6,8]]\n",
    ")\n",
    "\n",
    "print(np_2d_array.shape)\n",
    "print(np_2d_array.T)\n",
    "print(np_2d_array.T.shape)"
   ]
  },
  {
   "cell_type": "code",
   "execution_count": 16,
   "id": "cf3af233",
   "metadata": {},
   "outputs": [
    {
     "name": "stdout",
     "output_type": "stream",
     "text": [
      "3.6\n",
      "3.0\n",
      "1.9595917942265424\n",
      "4.65\n",
      "4.5\n",
      "2.669737814842499\n"
     ]
    }
   ],
   "source": [
    "''' mean, median, std '''\n",
    "three_test1=np.array(\n",
    "    [3,4,1,7,3] \n",
    ")\n",
    "\n",
    "three_test2=np.array(\n",
    "    [[1,2,3,4,5],\n",
    "     [6,7,8,9,1],\n",
    "     [2,4,6,8,2],\n",
    "     [1,3,5,7,9]]\n",
    ")\n",
    "\n",
    "print(np.mean(three_test1))\n",
    "print(np.median(three_test1))\n",
    "print(np.std(three_test1)) \n",
    "\n",
    "print(np.mean(three_test2))\n",
    "print(np.median(three_test2))\n",
    "print(np.std(three_test2))\n"
   ]
  }
 ],
 "metadata": {
  "kernelspec": {
   "display_name": "Python 3",
   "language": "python",
   "name": "python3"
  },
  "language_info": {
   "codemirror_mode": {
    "name": "ipython",
    "version": 3
   },
   "file_extension": ".py",
   "mimetype": "text/x-python",
   "name": "python",
   "nbconvert_exporter": "python",
   "pygments_lexer": "ipython3",
   "version": "3.12.3"
  }
 },
 "nbformat": 4,
 "nbformat_minor": 5
}
